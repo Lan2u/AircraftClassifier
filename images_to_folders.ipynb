{
 "cells": [
  {
   "cell_type": "code",
   "execution_count": 2,
   "metadata": {},
   "outputs": [],
   "source": [
    "import os\n",
    "import psycopg2\n",
    "import shutil\n",
    "\n",
    "import configparser\n",
    "\n",
    "from pathlib import Path"
   ]
  },
  {
   "cell_type": "code",
   "execution_count": 3,
   "metadata": {},
   "outputs": [],
   "source": [
    "# Path to the sql script used for getting images and details from database.\n",
    "SELECT_IMAGE_SCRIPT_PATH = \"database/select_aircraft_images.sql\"\n",
    "\n",
    "TRAINING_STORE_PATH = \"training_data/training/\"\n",
    "VALIDATION_STORE_PATH = \"training_data/validation/\""
   ]
  },
  {
   "cell_type": "code",
   "execution_count": 4,
   "metadata": {},
   "outputs": [],
   "source": [
    "class DBConfig:\n",
    "    def __init__(self, filename, host, port, db_name, user, pwd):\n",
    "        self.filename = filename\n",
    "        self.host = host\n",
    "        self.port = port\n",
    "        self.db_name = db_name\n",
    "        self.user = user\n",
    "        self.pwd = pwd"
   ]
  },
  {
   "cell_type": "code",
   "execution_count": 5,
   "metadata": {},
   "outputs": [],
   "source": [
    "def load_sql(filename):\n",
    "    with open(filename, \"r\") as sql_script_file:\n",
    "        return sql_script_file.read()"
   ]
  },
  {
   "cell_type": "code",
   "execution_count": 6,
   "metadata": {},
   "outputs": [],
   "source": [
    "def load_config(filename = 'database.ini', section = 'aircraft_postgres_db'):\n",
    "    parser = configparser.ConfigParser()\n",
    "    parser.read(filename)\n",
    "    cfg = parser[section]\n",
    "    return DBConfig(filename, cfg['Host'], int(cfg['Port']), cfg['Db_name'], cfg['User'], cfg['Pass'])"
   ]
  },
  {
   "cell_type": "code",
   "execution_count": 21,
   "metadata": {},
   "outputs": [],
   "source": [
    "variant_dic = {}\n",
    "\n",
    "def folderize_file(path, variant_name):\n",
    "    naive_cleaned_name = variant_name.replace(\"/\", \"_\")\n",
    "    \n",
    "    training_dir_path = os.path.join(TRAINING_STORE_PATH, naive_cleaned_name)\n",
    "    \n",
    "    Path(training_dir_path).mkdir(parents=True, exist_ok=True)\n",
    "    \n",
    "    validation_dir_path = os.path.join(VALIDATION_STORE_PATH, naive_cleaned_name)\n",
    "    \n",
    "    Path(validation_dir_path).mkdir(parents=True, exist_ok=True)\n",
    "    \n",
    "    image_name = os.path.basename(path)\n",
    "    \n",
    "    if naive_cleaned_name in variant_dic:\n",
    "        variant_dic[naive_cleaned_name] = variant_dic[naive_cleaned_name] + 1\n",
    "    else:\n",
    "        variant_dic[naive_cleaned_name] = 1\n",
    "    \n",
    "    new_path = \"\"\n",
    "    \n",
    "    # Take every fifth image to place in validation\n",
    "    if (variant_dic[naive_cleaned_name] % 5) == 0:\n",
    "        new_path = os.path.join(validation_dir_path, image_name)\n",
    "    else:\n",
    "        new_path = os.path.join(training_dir_path, image_name)\n",
    "        \n",
    "    shutil.copy(path, new_path)"
   ]
  },
  {
   "cell_type": "code",
   "execution_count": 22,
   "metadata": {},
   "outputs": [],
   "source": [
    "db_cfg = load_config()"
   ]
  },
  {
   "cell_type": "code",
   "execution_count": 23,
   "metadata": {},
   "outputs": [],
   "source": [
    "conn = psycopg2.connect(dbname=db_cfg.db_name, user=db_cfg.user, password=db_cfg.pwd, host=db_cfg.host, port=db_cfg.port)"
   ]
  },
  {
   "cell_type": "code",
   "execution_count": 24,
   "metadata": {},
   "outputs": [
    {
     "name": "stdout",
     "output_type": "stream",
     "text": [
      "Connected to database, version: ('PostgreSQL 12.3, compiled by Visual C++ build 1914, 64-bit',)\n"
     ]
    }
   ],
   "source": [
    "cur = conn.cursor()\n",
    "cur.execute('SELECT version()')\n",
    "print(\"Connected to database, version: \" + str(cur.fetchone()))"
   ]
  },
  {
   "cell_type": "code",
   "execution_count": 25,
   "metadata": {},
   "outputs": [],
   "source": [
    "select_image_sql = load_sql(SELECT_IMAGE_SCRIPT_PATH)"
   ]
  },
  {
   "cell_type": "code",
   "execution_count": 26,
   "metadata": {},
   "outputs": [],
   "source": [
    "cur.execute(select_image_sql)\n",
    "training_data = cur.fetchall()"
   ]
  },
  {
   "cell_type": "code",
   "execution_count": 27,
   "metadata": {},
   "outputs": [],
   "source": [
    "for img in training_data:\n",
    "    path = img[0]\n",
    "    variant_name = img[1]\n",
    "    folderize_file(path, variant_name)\n",
    "#     print(\"Path: {}\".format(path))\n",
    "#     print(\"Name: {}\".format(variant_name))"
   ]
  },
  {
   "cell_type": "code",
   "execution_count": null,
   "metadata": {},
   "outputs": [],
   "source": []
  }
 ],
 "metadata": {
  "kernelspec": {
   "display_name": "venv_air",
   "language": "python",
   "name": "venv_air"
  },
  "language_info": {
   "codemirror_mode": {
    "name": "ipython",
    "version": 3
   },
   "file_extension": ".py",
   "mimetype": "text/x-python",
   "name": "python",
   "nbconvert_exporter": "python",
   "pygments_lexer": "ipython3",
   "version": "3.8.3"
  }
 },
 "nbformat": 4,
 "nbformat_minor": 4
}
