{
 "cells": [
  {
   "cell_type": "code",
   "execution_count": 1,
   "metadata": {},
   "outputs": [],
   "source": [
    "import tensorflow as tf\n",
    "from tensorflow.keras.models import Sequential\n",
    "from tensorflow.keras.layers import Dense, Conv2D, Flatten, Dropout, MaxPooling2D\n",
    "from tensorflow.keras.preprocessing.image import ImageDataGenerator\n",
    "from tensorflow.python.client import device_lib\n",
    "\n",
    "import os\n",
    "import numpy as np\n",
    "import matplotlib.pyplot as plt\n",
    "from datetime import datetime"
   ]
  },
  {
   "cell_type": "markdown",
   "metadata": {},
   "source": [
    "# Verify GPU is detected"
   ]
  },
  {
   "cell_type": "code",
   "execution_count": 2,
   "metadata": {},
   "outputs": [
    {
     "name": "stdout",
     "output_type": "stream",
     "text": [
      "Num GPUs Available:  1\n"
     ]
    }
   ],
   "source": [
    "print(\"Num GPUs Available: \", len(tf.config.experimental.list_physical_devices('GPU')))"
   ]
  },
  {
   "cell_type": "markdown",
   "metadata": {},
   "source": [
    "# Training parameters"
   ]
  },
  {
   "cell_type": "code",
   "execution_count": 3,
   "metadata": {},
   "outputs": [],
   "source": [
    "BATCH_SIZE = 32\n",
    "EPOCHS = 64\n",
    "\n",
    "# Image size in pixels.\n",
    "IMG_HEIGHT = 256\n",
    "IMG_WIDTH = 256\n",
    "\n",
    "# Number of images in the training set.\n",
    "N_TRAIN = 481\n",
    "\n",
    "# Number of image classes / categories.\n",
    "CLASS_COUNT = 9\n",
    "\n",
    "STEPS_PER_EPOCH = N_TRAIN//BATCH_SIZE"
   ]
  },
  {
   "cell_type": "markdown",
   "metadata": {},
   "source": [
    "# Load Data"
   ]
  },
  {
   "cell_type": "code",
   "execution_count": 4,
   "metadata": {},
   "outputs": [],
   "source": [
    "# Directories of data, each catergory / class of data is in a seperate folder.\n",
    "# TRAINING_DIR = \"training_data/training\"\n",
    "# VALIDATION_DIR = \"training_data/validation\"\n",
    "TRAINING_DIR = \"reduced_training_data/training\"\n",
    "VALIDATION_DIR = \"reduced_training_data/validation\""
   ]
  },
  {
   "cell_type": "code",
   "execution_count": 5,
   "metadata": {},
   "outputs": [],
   "source": [
    "# Rescale here refers to scaling the pixel values from a range of [0, 255] to a range of [0, 1].\n",
    "train_image_generator = ImageDataGenerator(rescale=1./255)\n",
    "\n",
    "validation_image_generator = ImageDataGenerator(rescale=1./255)"
   ]
  },
  {
   "cell_type": "code",
   "execution_count": 6,
   "metadata": {},
   "outputs": [
    {
     "name": "stdout",
     "output_type": "stream",
     "text": [
      "Found 481 images belonging to 9 classes.\n"
     ]
    }
   ],
   "source": [
    "train_data_gen_batches = train_image_generator.flow_from_directory(batch_size=BATCH_SIZE,\n",
    "                                                           directory=TRAINING_DIR,\n",
    "                                                           shuffle=True,\n",
    "                                                           target_size=(IMG_HEIGHT, IMG_WIDTH),\n",
    "                                                           color_mode=\"grayscale\",\n",
    "                                                           class_mode='categorical',\n",
    "                                                           )"
   ]
  },
  {
   "cell_type": "code",
   "execution_count": 7,
   "metadata": {},
   "outputs": [
    {
     "name": "stdout",
     "output_type": "stream",
     "text": [
      "Found 117 images belonging to 9 classes.\n"
     ]
    }
   ],
   "source": [
    "val_data_gen = validation_image_generator.flow_from_directory(batch_size=BATCH_SIZE,\n",
    "                                                              directory=VALIDATION_DIR,\n",
    "                                                              target_size=(IMG_HEIGHT, IMG_WIDTH),\n",
    "                                                              color_mode=\"grayscale\",\n",
    "                                                              class_mode='categorical')"
   ]
  },
  {
   "cell_type": "markdown",
   "metadata": {},
   "source": [
    "# Model Layers"
   ]
  },
  {
   "cell_type": "code",
   "execution_count": 8,
   "metadata": {},
   "outputs": [],
   "source": [
    "model = Sequential([\n",
    "    tf.keras.layers.Conv2D(32, (3,3), activation='relu', input_shape=(IMG_HEIGHT, IMG_WIDTH, 1)),\n",
    "    tf.keras.layers.MaxPooling2D(2,2),\n",
    "    tf.keras.layers.Conv2D(64, (3,3), activation='relu'),\n",
    "    tf.keras.layers.MaxPooling2D(2,2),\n",
    "#     tf.keras.layers.Dropout(0.25),\n",
    "    tf.keras.layers.Flatten(),\n",
    "    tf.keras.layers.Dense(128, activation='relu'),\n",
    "    tf.keras.layers.Dropout(0.5),\n",
    "    tf.keras.layers.Dense(16, activation='relu'),\n",
    "    tf.keras.layers.Dropout(0.5),\n",
    "    tf.keras.layers.Dense(16, activation='relu'),\n",
    "    tf.keras.layers.Dense(CLASS_COUNT, activation='softmax')\n",
    "])\n",
    "\n"
   ]
  },
  {
   "cell_type": "markdown",
   "metadata": {},
   "source": [
    "# Optimizer"
   ]
  },
  {
   "cell_type": "code",
   "execution_count": 9,
   "metadata": {},
   "outputs": [],
   "source": [
    "lr_schedule = tf.keras.optimizers.schedules.InverseTimeDecay(\n",
    "  0.001,\n",
    "  decay_steps=STEPS_PER_EPOCH*100,\n",
    "  decay_rate=1,\n",
    "  staircase=False)\n",
    "\n",
    "def get_optimizer():\n",
    "    return tf.keras.optimizers.Adam(lr_schedule)"
   ]
  },
  {
   "cell_type": "markdown",
   "metadata": {},
   "source": [
    "# Compile Model"
   ]
  },
  {
   "cell_type": "code",
   "execution_count": 10,
   "metadata": {},
   "outputs": [],
   "source": [
    "model.compile(optimizer=get_optimizer(),\n",
    "              loss=tf.keras.losses.BinaryCrossentropy(from_logits=True),\n",
    "              metrics=['accuracy'])"
   ]
  },
  {
   "cell_type": "markdown",
   "metadata": {},
   "source": [
    "# Tensorboard Logging + Model Summary "
   ]
  },
  {
   "cell_type": "code",
   "execution_count": 11,
   "metadata": {},
   "outputs": [],
   "source": [
    "log_dir = \"logs/fit/\" + datetime.now().strftime(\"%Y%m%d-%H%M%S\")\n",
    "tensorboard_callback = tf.keras.callbacks.TensorBoard(log_dir=log_dir, histogram_freq=1)"
   ]
  },
  {
   "cell_type": "code",
   "execution_count": 12,
   "metadata": {},
   "outputs": [
    {
     "name": "stdout",
     "output_type": "stream",
     "text": [
      "Model: \"sequential\"\n",
      "_________________________________________________________________\n",
      "Layer (type)                 Output Shape              Param #   \n",
      "=================================================================\n",
      "conv2d (Conv2D)              (None, 254, 254, 32)      320       \n",
      "_________________________________________________________________\n",
      "max_pooling2d (MaxPooling2D) (None, 127, 127, 32)      0         \n",
      "_________________________________________________________________\n",
      "conv2d_1 (Conv2D)            (None, 125, 125, 64)      18496     \n",
      "_________________________________________________________________\n",
      "max_pooling2d_1 (MaxPooling2 (None, 62, 62, 64)        0         \n",
      "_________________________________________________________________\n",
      "flatten (Flatten)            (None, 246016)            0         \n",
      "_________________________________________________________________\n",
      "dense (Dense)                (None, 128)               31490176  \n",
      "_________________________________________________________________\n",
      "dropout (Dropout)            (None, 128)               0         \n",
      "_________________________________________________________________\n",
      "dense_1 (Dense)              (None, 16)                2064      \n",
      "_________________________________________________________________\n",
      "dropout_1 (Dropout)          (None, 16)                0         \n",
      "_________________________________________________________________\n",
      "dense_2 (Dense)              (None, 16)                272       \n",
      "_________________________________________________________________\n",
      "dense_3 (Dense)              (None, 9)                 153       \n",
      "=================================================================\n",
      "Total params: 31,511,481\n",
      "Trainable params: 31,511,481\n",
      "Non-trainable params: 0\n",
      "_________________________________________________________________\n"
     ]
    }
   ],
   "source": [
    "model.summary()"
   ]
  },
  {
   "cell_type": "markdown",
   "metadata": {},
   "source": [
    "# Setup Checkpointing the Model"
   ]
  },
  {
   "cell_type": "code",
   "execution_count": 13,
   "metadata": {},
   "outputs": [],
   "source": [
    "def get_details():\n",
    "    DETAILS = \"batch_size={}_epochs={}_img=({},{})\".format(BATCH_SIZE, EPOCHS, IMG_HEIGHT, IMG_WIDTH)\n",
    "    return DETAILS"
   ]
  },
  {
   "cell_type": "code",
   "execution_count": 14,
   "metadata": {},
   "outputs": [],
   "source": [
    "TIMESTAMP = datetime.now().strftime(\"%d-%m-%Y-%H-%M-%S\")\n",
    "\n",
    "BASE_CHECKPOINT_PATH = \"checkpoints\"\n",
    "\n",
    "CHECKPOINT_FILE_NAME = \"cp-{epoch:04d}.ckpt\"\n",
    "CHECKPOINT_PATH = os.path.join(BASE_CHECKPOINT_PATH, TIMESTAMP, CHECKPOINT_FILE_NAME)\n",
    "CHECKPOINT_DIR = os.path.dirname(CHECKPOINT_PATH)\n",
    "\n",
    "os.makedirs(CHECKPOINT_DIR)\n",
    "\n",
    "DETAIL_FILE_NAME = \"details.txt\"\n",
    "\n",
    "details_file = open(os.path.join(CHECKPOINT_DIR, DETAIL_FILE_NAME), \"w\")\n",
    "details_file.write(TIMESTAMP + \"\\n\")\n",
    "details_file.write(get_details())\n",
    "details_file.close()"
   ]
  },
  {
   "cell_type": "code",
   "execution_count": 15,
   "metadata": {},
   "outputs": [
    {
     "name": "stdout",
     "output_type": "stream",
     "text": [
      "WARNING:tensorflow:`period` argument is deprecated. Please use `save_freq` to specify the frequency in number of batches seen.\n"
     ]
    }
   ],
   "source": [
    "# Create a callback that saves the model's weights\n",
    "cp_callback = tf.keras.callbacks.ModelCheckpoint(filepath=CHECKPOINT_PATH,\n",
    "#                                                  save_weights_only=True,\n",
    "                                                 verbose=1,\n",
    "                                                 period=8\n",
    "                                                )"
   ]
  },
  {
   "cell_type": "code",
   "execution_count": 16,
   "metadata": {},
   "outputs": [],
   "source": [
    "model.save_weights(CHECKPOINT_PATH.format(epoch=0))"
   ]
  },
  {
   "cell_type": "markdown",
   "metadata": {},
   "source": [
    "# Train the model"
   ]
  },
  {
   "cell_type": "code",
   "execution_count": 17,
   "metadata": {},
   "outputs": [
    {
     "name": "stdout",
     "output_type": "stream",
     "text": [
      "Epoch 1/64\n",
      "16/16 [==============================] - 10s 643ms/step - loss: 0.7415 - accuracy: 0.1206 - val_loss: 0.7383 - val_accuracy: 0.1111\n",
      "Epoch 2/64\n",
      "16/16 [==============================] - 9s 540ms/step - loss: 0.7380 - accuracy: 0.0998 - val_loss: 0.7379 - val_accuracy: 0.1111\n",
      "Epoch 3/64\n",
      "16/16 [==============================] - 9s 547ms/step - loss: 0.7379 - accuracy: 0.1351 - val_loss: 0.7379 - val_accuracy: 0.1624\n",
      "Epoch 4/64\n",
      "16/16 [==============================] - 9s 536ms/step - loss: 0.7374 - accuracy: 0.1518 - val_loss: 0.7375 - val_accuracy: 0.1368\n",
      "Epoch 5/64\n",
      "16/16 [==============================] - 9s 569ms/step - loss: 0.7374 - accuracy: 0.1372 - val_loss: 0.7373 - val_accuracy: 0.1880\n",
      "Epoch 6/64\n",
      "16/16 [==============================] - 10s 631ms/step - loss: 0.7369 - accuracy: 0.1185 - val_loss: 0.7375 - val_accuracy: 0.1368\n",
      "Epoch 7/64\n",
      "16/16 [==============================] - 9s 535ms/step - loss: 0.7384 - accuracy: 0.1227 - val_loss: 0.7371 - val_accuracy: 0.1624\n",
      "Epoch 8/64\n",
      "16/16 [==============================] - ETA: 0s - loss: 0.7364 - accuracy: 0.1455\n",
      "Epoch 00008: saving model to checkpoints\\19-06-2020-18-30-04\\cp-0008.ckpt\n",
      "WARNING:tensorflow:From C:\\Users\\paul\\anaconda3\\envs\\venv_air\\lib\\site-packages\\tensorflow\\python\\ops\\resource_variable_ops.py:1813: calling BaseResourceVariable.__init__ (from tensorflow.python.ops.resource_variable_ops) with constraint is deprecated and will be removed in a future version.\n",
      "Instructions for updating:\n",
      "If using Keras pass *_constraint arguments to layers.\n",
      "INFO:tensorflow:Assets written to: checkpoints\\19-06-2020-18-30-04\\cp-0008.ckpt\\assets\n",
      "16/16 [==============================] - 11s 673ms/step - loss: 0.7364 - accuracy: 0.1455 - val_loss: 0.7357 - val_accuracy: 0.1538\n",
      "Epoch 9/64\n",
      "16/16 [==============================] - 9s 549ms/step - loss: 0.7336 - accuracy: 0.1892 - val_loss: 0.7344 - val_accuracy: 0.2137\n",
      "Epoch 10/64\n",
      "16/16 [==============================] - 9s 533ms/step - loss: 0.7343 - accuracy: 0.1663 - val_loss: 0.7351 - val_accuracy: 0.2308\n",
      "Epoch 11/64\n",
      "16/16 [==============================] - 9s 536ms/step - loss: 0.7321 - accuracy: 0.1975 - val_loss: 0.7335 - val_accuracy: 0.1966\n",
      "Epoch 12/64\n",
      "16/16 [==============================] - 9s 538ms/step - loss: 0.7303 - accuracy: 0.2453 - val_loss: 0.7332 - val_accuracy: 0.2051\n",
      "Epoch 13/64\n",
      "16/16 [==============================] - 9s 553ms/step - loss: 0.7329 - accuracy: 0.2017 - val_loss: 0.7335 - val_accuracy: 0.2137\n",
      "Epoch 14/64\n",
      "16/16 [==============================] - 9s 539ms/step - loss: 0.7294 - accuracy: 0.2786 - val_loss: 0.7332 - val_accuracy: 0.2650\n",
      "Epoch 15/64\n",
      "16/16 [==============================] - 9s 537ms/step - loss: 0.7258 - accuracy: 0.2890 - val_loss: 0.7298 - val_accuracy: 0.2735\n",
      "Epoch 16/64\n",
      "16/16 [==============================] - ETA: 0s - loss: 0.7234 - accuracy: 0.3389\n",
      "Epoch 00016: saving model to checkpoints\\19-06-2020-18-30-04\\cp-0016.ckpt\n",
      "INFO:tensorflow:Assets written to: checkpoints\\19-06-2020-18-30-04\\cp-0016.ckpt\\assets\n",
      "16/16 [==============================] - 11s 661ms/step - loss: 0.7234 - accuracy: 0.3389 - val_loss: 0.7283 - val_accuracy: 0.2821\n",
      "Epoch 17/64\n",
      "16/16 [==============================] - 9s 536ms/step - loss: 0.7227 - accuracy: 0.3181 - val_loss: 0.7291 - val_accuracy: 0.2991\n",
      "Epoch 18/64\n",
      "16/16 [==============================] - 9s 536ms/step - loss: 0.7233 - accuracy: 0.3410 - val_loss: 0.7251 - val_accuracy: 0.3248\n",
      "Epoch 19/64\n",
      "16/16 [==============================] - 9s 541ms/step - loss: 0.7187 - accuracy: 0.3825 - val_loss: 0.7209 - val_accuracy: 0.3675\n",
      "Epoch 20/64\n",
      "16/16 [==============================] - 9s 536ms/step - loss: 0.7183 - accuracy: 0.3680 - val_loss: 0.7230 - val_accuracy: 0.3419\n",
      "Epoch 21/64\n",
      "16/16 [==============================] - 9s 540ms/step - loss: 0.7162 - accuracy: 0.4012 - val_loss: 0.7225 - val_accuracy: 0.3590\n",
      "Epoch 22/64\n",
      "16/16 [==============================] - 9s 536ms/step - loss: 0.7102 - accuracy: 0.4553 - val_loss: 0.7219 - val_accuracy: 0.3761\n",
      "Epoch 23/64\n",
      "16/16 [==============================] - 9s 537ms/step - loss: 0.7132 - accuracy: 0.4407 - val_loss: 0.7228 - val_accuracy: 0.3504\n",
      "Epoch 24/64\n",
      "16/16 [==============================] - ETA: 0s - loss: 0.7122 - accuracy: 0.4407\n",
      "Epoch 00024: saving model to checkpoints\\19-06-2020-18-30-04\\cp-0024.ckpt\n",
      "INFO:tensorflow:Assets written to: checkpoints\\19-06-2020-18-30-04\\cp-0024.ckpt\\assets\n",
      "16/16 [==============================] - 10s 656ms/step - loss: 0.7122 - accuracy: 0.4407 - val_loss: 0.7222 - val_accuracy: 0.3846\n",
      "Epoch 25/64\n",
      "16/16 [==============================] - 9s 537ms/step - loss: 0.7110 - accuracy: 0.4553 - val_loss: 0.7231 - val_accuracy: 0.3333\n",
      "Epoch 26/64\n",
      "16/16 [==============================] - 9s 539ms/step - loss: 0.7086 - accuracy: 0.4699 - val_loss: 0.7214 - val_accuracy: 0.3846\n",
      "Epoch 27/64\n",
      "16/16 [==============================] - 9s 537ms/step - loss: 0.7050 - accuracy: 0.5239 - val_loss: 0.7187 - val_accuracy: 0.3675\n",
      "Epoch 28/64\n",
      "16/16 [==============================] - 9s 535ms/step - loss: 0.7054 - accuracy: 0.5073 - val_loss: 0.7191 - val_accuracy: 0.3675\n",
      "Epoch 29/64\n",
      "16/16 [==============================] - 9s 543ms/step - loss: 0.7048 - accuracy: 0.5198 - val_loss: 0.7181 - val_accuracy: 0.4017\n",
      "Epoch 30/64\n",
      "16/16 [==============================] - 9s 540ms/step - loss: 0.7001 - accuracy: 0.5385 - val_loss: 0.7180 - val_accuracy: 0.3761\n",
      "Epoch 31/64\n",
      "16/16 [==============================] - 9s 542ms/step - loss: 0.7028 - accuracy: 0.5094 - val_loss: 0.7176 - val_accuracy: 0.3932\n",
      "Epoch 32/64\n",
      "16/16 [==============================] - ETA: 0s - loss: 0.7018 - accuracy: 0.5343\n",
      "Epoch 00032: saving model to checkpoints\\19-06-2020-18-30-04\\cp-0032.ckpt\n",
      "INFO:tensorflow:Assets written to: checkpoints\\19-06-2020-18-30-04\\cp-0032.ckpt\\assets\n",
      "16/16 [==============================] - 11s 662ms/step - loss: 0.7018 - accuracy: 0.5343 - val_loss: 0.7165 - val_accuracy: 0.4188\n",
      "Epoch 33/64\n",
      "16/16 [==============================] - 9s 541ms/step - loss: 0.7008 - accuracy: 0.5405 - val_loss: 0.7161 - val_accuracy: 0.4188\n",
      "Epoch 34/64\n",
      "16/16 [==============================] - 9s 539ms/step - loss: 0.6967 - accuracy: 0.5759 - val_loss: 0.7173 - val_accuracy: 0.3932\n",
      "Epoch 35/64\n",
      "16/16 [==============================] - 9s 540ms/step - loss: 0.6996 - accuracy: 0.5509 - val_loss: 0.7168 - val_accuracy: 0.4188\n",
      "Epoch 36/64\n",
      "16/16 [==============================] - 9s 537ms/step - loss: 0.6992 - accuracy: 0.5593 - val_loss: 0.7146 - val_accuracy: 0.4188\n",
      "Epoch 37/64\n",
      "16/16 [==============================] - 9s 540ms/step - loss: 0.6977 - accuracy: 0.5738 - val_loss: 0.7162 - val_accuracy: 0.3932\n",
      "Epoch 38/64\n",
      "16/16 [==============================] - 9s 538ms/step - loss: 0.6981 - accuracy: 0.5613 - val_loss: 0.7142 - val_accuracy: 0.4615\n",
      "Epoch 39/64\n",
      "16/16 [==============================] - 9s 536ms/step - loss: 0.6990 - accuracy: 0.5530 - val_loss: 0.7176 - val_accuracy: 0.3932\n",
      "Epoch 40/64\n",
      "16/16 [==============================] - ETA: 0s - loss: 0.6954 - accuracy: 0.5925\n",
      "Epoch 00040: saving model to checkpoints\\19-06-2020-18-30-04\\cp-0040.ckpt\n",
      "INFO:tensorflow:Assets written to: checkpoints\\19-06-2020-18-30-04\\cp-0040.ckpt\\assets\n",
      "16/16 [==============================] - 10s 655ms/step - loss: 0.6954 - accuracy: 0.5925 - val_loss: 0.7145 - val_accuracy: 0.4274\n",
      "Epoch 41/64\n",
      "16/16 [==============================] - 9s 558ms/step - loss: 0.6970 - accuracy: 0.5759 - val_loss: 0.7141 - val_accuracy: 0.4615\n",
      "Epoch 42/64\n",
      "16/16 [==============================] - 9s 536ms/step - loss: 0.6921 - accuracy: 0.6383 - val_loss: 0.7154 - val_accuracy: 0.4359\n",
      "Epoch 43/64\n",
      "16/16 [==============================] - 9s 536ms/step - loss: 0.6952 - accuracy: 0.5904 - val_loss: 0.7143 - val_accuracy: 0.4444\n",
      "Epoch 44/64\n",
      "16/16 [==============================] - 9s 561ms/step - loss: 0.6953 - accuracy: 0.6071 - val_loss: 0.7147 - val_accuracy: 0.4274\n",
      "Epoch 45/64\n",
      "16/16 [==============================] - 9s 537ms/step - loss: 0.6936 - accuracy: 0.6071 - val_loss: 0.7136 - val_accuracy: 0.4359\n",
      "Epoch 46/64\n",
      "16/16 [==============================] - 9s 536ms/step - loss: 0.6904 - accuracy: 0.6445 - val_loss: 0.7137 - val_accuracy: 0.4701\n",
      "Epoch 47/64\n"
     ]
    },
    {
     "name": "stdout",
     "output_type": "stream",
     "text": [
      "16/16 [==============================] - 9s 567ms/step - loss: 0.6951 - accuracy: 0.6029 - val_loss: 0.7148 - val_accuracy: 0.4274\n",
      "Epoch 48/64\n",
      "16/16 [==============================] - ETA: 0s - loss: 0.6926 - accuracy: 0.6216\n",
      "Epoch 00048: saving model to checkpoints\\19-06-2020-18-30-04\\cp-0048.ckpt\n",
      "INFO:tensorflow:Assets written to: checkpoints\\19-06-2020-18-30-04\\cp-0048.ckpt\\assets\n",
      "16/16 [==============================] - 10s 653ms/step - loss: 0.6926 - accuracy: 0.6216 - val_loss: 0.7142 - val_accuracy: 0.4188\n",
      "Epoch 49/64\n",
      "16/16 [==============================] - 9s 544ms/step - loss: 0.6919 - accuracy: 0.6424 - val_loss: 0.7137 - val_accuracy: 0.4444\n",
      "Epoch 50/64\n",
      "16/16 [==============================] - 9s 535ms/step - loss: 0.6929 - accuracy: 0.6112 - val_loss: 0.7141 - val_accuracy: 0.4188\n",
      "Epoch 51/64\n",
      "16/16 [==============================] - 9s 540ms/step - loss: 0.6906 - accuracy: 0.6466 - val_loss: 0.7150 - val_accuracy: 0.4359\n",
      "Epoch 52/64\n",
      "16/16 [==============================] - 9s 540ms/step - loss: 0.6920 - accuracy: 0.6279 - val_loss: 0.7146 - val_accuracy: 0.4359\n",
      "Epoch 53/64\n",
      "16/16 [==============================] - 9s 539ms/step - loss: 0.6912 - accuracy: 0.6466 - val_loss: 0.7141 - val_accuracy: 0.4359\n",
      "Epoch 54/64\n",
      "16/16 [==============================] - 9s 536ms/step - loss: 0.6916 - accuracy: 0.6299 - val_loss: 0.7129 - val_accuracy: 0.4615\n",
      "Epoch 55/64\n",
      "16/16 [==============================] - 9s 539ms/step - loss: 0.6889 - accuracy: 0.6694 - val_loss: 0.7118 - val_accuracy: 0.4701\n",
      "Epoch 56/64\n",
      "16/16 [==============================] - ETA: 0s - loss: 0.6936 - accuracy: 0.6320\n",
      "Epoch 00056: saving model to checkpoints\\19-06-2020-18-30-04\\cp-0056.ckpt\n",
      "INFO:tensorflow:Assets written to: checkpoints\\19-06-2020-18-30-04\\cp-0056.ckpt\\assets\n",
      "16/16 [==============================] - 11s 660ms/step - loss: 0.6936 - accuracy: 0.6320 - val_loss: 0.7133 - val_accuracy: 0.4188\n",
      "Epoch 57/64\n",
      "16/16 [==============================] - 9s 538ms/step - loss: 0.6911 - accuracy: 0.6486 - val_loss: 0.7158 - val_accuracy: 0.3932\n",
      "Epoch 58/64\n",
      "16/16 [==============================] - 9s 539ms/step - loss: 0.6896 - accuracy: 0.6611 - val_loss: 0.7154 - val_accuracy: 0.3932\n",
      "Epoch 59/64\n",
      "16/16 [==============================] - 9s 544ms/step - loss: 0.6903 - accuracy: 0.6653 - val_loss: 0.7150 - val_accuracy: 0.3932\n",
      "Epoch 60/64\n",
      "16/16 [==============================] - 9s 543ms/step - loss: 0.6885 - accuracy: 0.6632 - val_loss: 0.7141 - val_accuracy: 0.4188\n",
      "Epoch 61/64\n",
      "16/16 [==============================] - 9s 549ms/step - loss: 0.6906 - accuracy: 0.6424 - val_loss: 0.7130 - val_accuracy: 0.4359\n",
      "Epoch 62/64\n",
      "16/16 [==============================] - 9s 567ms/step - loss: 0.6909 - accuracy: 0.6486 - val_loss: 0.7130 - val_accuracy: 0.4274\n",
      "Epoch 63/64\n",
      "16/16 [==============================] - 9s 538ms/step - loss: 0.6894 - accuracy: 0.6674 - val_loss: 0.7137 - val_accuracy: 0.4103\n",
      "Epoch 64/64\n",
      "16/16 [==============================] - ETA: 0s - loss: 0.6869 - accuracy: 0.6653\n",
      "Epoch 00064: saving model to checkpoints\\19-06-2020-18-30-04\\cp-0064.ckpt\n",
      "INFO:tensorflow:Assets written to: checkpoints\\19-06-2020-18-30-04\\cp-0064.ckpt\\assets\n",
      "16/16 [==============================] - 11s 657ms/step - loss: 0.6869 - accuracy: 0.6653 - val_loss: 0.7138 - val_accuracy: 0.4017\n"
     ]
    }
   ],
   "source": [
    "history = model.fit(train_data_gen_batches, epochs=EPOCHS, validation_data = val_data_gen, verbose = 1, callbacks=[cp_callback, tensorboard_callback])\n"
   ]
  },
  {
   "cell_type": "markdown",
   "metadata": {},
   "source": [
    "# Display Results"
   ]
  },
  {
   "cell_type": "code",
   "execution_count": 18,
   "metadata": {},
   "outputs": [
    {
     "data": {
      "image/png": "[encoded data removed]",
      "text/plain": [
       "<Figure size 1152x576 with 2 Axes>"
      ]
     },
     "metadata": {
      "needs_background": "light"
     },
     "output_type": "display_data"
    }
   ],
   "source": [
    "acc = history.history['accuracy']\n",
    "val_acc = history.history['val_accuracy']\n",
    "\n",
    "loss = history.history['loss']\n",
    "val_loss = history.history['val_loss']\n",
    "\n",
    "epochs_range = range(EPOCHS)\n",
    "\n",
    "plt.figure(figsize=(16,8))\n",
    "plt.subplot(1,2,1)\n",
    "plt.plot(epochs_range, acc, label='Training Accuracy')\n",
    "plt.plot(epochs_range, val_acc, label='Validation Accuracy')\n",
    "plt.legend(loc='lower right')\n",
    "plt.title('Training and Validation Accuracy')\n",
    "\n",
    "plt.subplot(1, 2, 2)\n",
    "plt.plot(epochs_range, loss, label='Training Loss')\n",
    "plt.plot(epochs_range, val_loss, label='Validation Loss')\n",
    "plt.legend(loc='upper right')\n",
    "plt.title('Training and Validation Loss')\n",
    "\n",
    "file_name = \"graph.png\"\n",
    "\n",
    "plt.savefig(os.path.join(CHECKPOINT_DIR, file_name))\n",
    "\n",
    "plt.show()"
   ]
  },
  {
   "cell_type": "code",
   "execution_count": null,
   "metadata": {},
   "outputs": [],
   "source": []
  }
 ],
 "metadata": {
  "kernelspec": {
   "display_name": "venv_air",
   "language": "python",
   "name": "venv_air"
  },
  "language_info": {
   "codemirror_mode": {
    "name": "ipython",
    "version": 3
   },
   "file_extension": ".py",
   "mimetype": "text/x-python",
   "name": "python",
   "nbconvert_exporter": "python",
   "pygments_lexer": "ipython3",
   "version": "3.8.3"
  }
 },
 "nbformat": 4,
 "nbformat_minor": 4
}
